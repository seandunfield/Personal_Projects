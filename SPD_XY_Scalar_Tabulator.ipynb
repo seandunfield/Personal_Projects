{
 "cells": [
  {
   "cell_type": "markdown",
   "id": "826eb0a0",
   "metadata": {},
   "source": [
    "# General Information"
   ]
  },
  {
   "cell_type": "markdown",
   "id": "14eed91e",
   "metadata": {},
   "source": [
    "This is a data tabulating function for X,Y data plus scalars.\n",
    "\n",
    "Variables to change are located in .getuserinputs().\n",
    "\n",
    "Everything else is calculated from the class assuming it has the data structure outlined in XY + Scalar Data Class."
   ]
  },
  {
   "cell_type": "markdown",
   "id": "4c9fe4fb",
   "metadata": {},
   "source": [
    "# Import Packages"
   ]
  },
  {
   "cell_type": "code",
   "execution_count": 1,
   "id": "ba85a2ed",
   "metadata": {},
   "outputs": [],
   "source": [
    "import pandas as pd"
   ]
  },
  {
   "cell_type": "markdown",
   "id": "6a56cf7b",
   "metadata": {},
   "source": [
    "# XY + Scalar Data Class"
   ]
  },
  {
   "cell_type": "markdown",
   "id": "135144f9",
   "metadata": {},
   "source": [
    "A General class section has a few main functions to work with the plotter:\n",
    "\n",
    "A) __init__(): defines variables stored in self, it has:\n",
    "\n",
    "     - self.ID = ID of Class (e.g. JV)\n",
    "     \n",
    "     - self.filelocation = full path to file\n",
    "     - self.filefolder = full path to folder holding file\n",
    "     - self.filename = name of file including extension (e.g. JVFile.csv)\n",
    "     - self.classname = name of class made from file (e.g. JVFile)\n",
    "     \n",
    "     - self.loadedlist: all loaded variable names\n",
    "             self.load (0=not analyzed, 1=analyzed)\n",
    "     - self.vectorlist: all calculated vector names\n",
    "              self.vetcor (0=not analyzed, 1=analyzed)\n",
    "     - self.scalarlist: all calculated scalar names\n",
    "              self.scalar (0=not analyzed, 1=analyzed)\n",
    "\n",
    "     - self.Varaible: jsc --> Jsc\n",
    "     - self.Name: jsc --> Short Circuit Current Density / Jsc (mA/cm²)\n",
    "     - self.NameRev: opposite of Name\n",
    "     - self.Label: jsc --> Jsc (mA/cm²)\n",
    "     - self.Unit: jsc --> mA/cm²\n",
    "\n",
    "B) loadfile(fullpathtofile): loads file, sets self.load = 1, calculates all values in self.loadedlist\n",
    "\n",
    "C) createlists(): creates lists and vectors for management of class\n",
    "\n",
    "D) calcvectors(): sets self.vector = 1, calculates all vectors in self.vectorlist\n",
    "\n",
    "E) calcscalars(): sets self.scalar = 1, calculates all vectors in self.vectorlist\n",
    "\n",
    "F) getparamvals(inputvallist): returns scalars for varaible inputs"
   ]
  },
  {
   "cell_type": "markdown",
   "id": "7a863f14",
   "metadata": {},
   "source": [
    "# Setup XY + Scalar Data Tabulator"
   ]
  },
  {
   "cell_type": "markdown",
   "id": "f9272454",
   "metadata": {},
   "source": [
    "This class uses inputs in 'getuserinputs' to manage workup without anything specific to the class."
   ]
  },
  {
   "cell_type": "code",
   "execution_count": 2,
   "id": "27773909",
   "metadata": {},
   "outputs": [],
   "source": [
    "class XYTabulator:\n",
    "    \n",
    "    # Takes User Inputs\n",
    "    def getuserinputs(self):\n",
    "        \n",
    "        #standard inputs to change\n",
    "        self.classname = 'SPD_JV_Class.Device.JVCurve()'\n",
    "        self.loadfolder = 'C:\\\\Users\\\\seand\\\\Documents\\\\Data\\\\JV\\\\'\n",
    "        self.outputfodler = 'C:\\\\Users\\\\seand\\\\Documents\\\\Data\\\\JV\\\\Analyzed\\\\'\n",
    "        self.xindex = 0\n",
    "        self.yindex = 1\n",
    "\n",
    "        #these can be changed but it is not recomended\n",
    "        # nothing at the moment. \n",
    "    \n",
    "    # builds data set\n",
    "    def __init__(self, graphinguserinterface):\n",
    "        \n",
    "        # SAME AS PLOTTER START\n",
    "        \n",
    "        #create variables, get values using .getuserinputs()\n",
    "        self.classname = None\n",
    "        self.loadfolder = None\n",
    "        self.outputfolder = None\n",
    "        self.xindex = None\n",
    "        self.yindex = None\n",
    "        self.getuserinputs()\n",
    "        \n",
    "        # create dummy file of class, call .createlists on dummy class, pull x and y for plotting\n",
    "        self.dummy = eval(self.classname)  \n",
    "        self.dummy.createlists()\n",
    "        self.xydict = {'x':self.dummy.loadedlist[self.xindex],'y':self.dummy.loadedlist[self.yindex]}\n",
    "        \n",
    "        # move into folder, make list of txt files in it\n",
    "        os.chdir(self.loadfolder)\n",
    "        self.listoffiles = glob.glob('*csv')\n",
    "        \n",
    "        # create dictionary { filename : classfilename } where jvname is same name - .txt\n",
    "        self.filestoclass = {}\n",
    "        for file in self.listoffiles:\n",
    "            classfilename = file.rsplit(\".\", 1)[0]\n",
    "            self.filestoclass[file] = classfilename\n",
    "            \n",
    "         # SAME AS PLOTTER END\n",
    "        \n",
    "\n",
    "        #cycles through txt files and calculates neccisary parameters for each text file\n",
    "        for z, values in enumerate(self.listoffiles):\n",
    "            \n",
    "            # get 'value' which is the text file\n",
    "            value = w.get(values)\n",
    "            # call class on txt file\n",
    "            self.filestoclass[str(value)] = eval(self.classname)\n",
    "            # load file\n",
    "            self.filestoclass[str(value)].loadfile(self.loadfolder+value)\n",
    "            # calc vectors\n",
    "            self.filestoclass[str(value)].calcvectors()\n",
    "            # calc scalars    \n",
    "            self.filestoclass[str(wave)].calcscalars()\n",
    "            \n",
    "            # we need to dump these in a pandas aray in a smart way now and then save\n",
    "\n",
    "\n",
    "        \n"
   ]
  }
 ],
 "metadata": {
  "kernelspec": {
   "display_name": "Python 3",
   "language": "python",
   "name": "python3"
  },
  "language_info": {
   "codemirror_mode": {
    "name": "ipython",
    "version": 3
   },
   "file_extension": ".py",
   "mimetype": "text/x-python",
   "name": "python",
   "nbconvert_exporter": "python",
   "pygments_lexer": "ipython3",
   "version": "3.8.11"
  }
 },
 "nbformat": 4,
 "nbformat_minor": 5
}
